{
 "metadata": {
  "language_info": {
   "codemirror_mode": {
    "name": "ipython",
    "version": 3
   },
   "file_extension": ".py",
   "mimetype": "text/x-python",
   "name": "python",
   "nbconvert_exporter": "python",
   "pygments_lexer": "ipython3",
   "version": "3.8.5-final"
  },
  "orig_nbformat": 2,
  "kernelspec": {
   "name": "python3",
   "display_name": "Python 3",
   "language": "python"
  }
 },
 "nbformat": 4,
 "nbformat_minor": 2,
 "cells": [
  {
   "cell_type": "code",
   "execution_count": 1,
   "metadata": {},
   "outputs": [],
   "source": [
    "import pandas as pd\n",
    "import numpy as np\n",
    "from glob import glob"
   ]
  },
  {
   "cell_type": "code",
   "execution_count": 2,
   "metadata": {},
   "outputs": [],
   "source": [
    "path = './action_test/*.csv'"
   ]
  },
  {
   "cell_type": "code",
   "execution_count": 3,
   "metadata": {
    "tags": []
   },
   "outputs": [
    {
     "output_type": "stream",
     "name": "stdout",
     "text": [
      "54\n"
     ]
    }
   ],
   "source": [
    "min_len = 9999\n",
    "for file_path in glob(path):\n",
    "    df = pd.read_csv(file_path, names=list(range(57))).drop([54, 55, 56], 1)\n",
    "    if df.shape[0] < min_len:\n",
    "        min_len = df.shape[0]\n",
    "    for idx in range(54):\n",
    "        col = df[idx].to_list()\n",
    "        indice = [i for i, x in enumerate(col) if x==-1]\n",
    "        indices = []\n",
    "        start = 0\n",
    "        end = len(indice)\n",
    "        if end == 0:\n",
    "            continue\n",
    "        for i in range(1, end):\n",
    "            if indice[i] - indice[i-1] != 1:\n",
    "                indices.append(indice[start: i])\n",
    "                start = i\n",
    "        indices.append(indice[start:])\n",
    "        for indice in indices:\n",
    "            next_value = indice[-1] + 1\n",
    "            if next_value == len(col):\n",
    "                next_value = col[indice[0]-1]\n",
    "            else:\n",
    "                next_value = col[next_value]\n",
    "            last_value = indice[0] - 1\n",
    "            if last_value == -1:\n",
    "                last_value = col[indice[-1]+1]\n",
    "            else:\n",
    "                last_value = col[last_value]\n",
    "            pad_value = np.linspace(last_value,next_value,len(indice))\n",
    "            for ii, i in enumerate(indice):\n",
    "                col[i] = pad_value[ii]\n",
    "            df[idx] = col\n",
    "    df.to_csv(file_path)\n",
    "print(min_len)\n",
    "min_len = 49"
   ]
  },
  {
   "cell_type": "code",
   "execution_count": 4,
   "metadata": {
    "tags": []
   },
   "outputs": [],
   "source": [
    "for file_path in glob(path):\n",
    "    df = pd.read_csv(file_path).drop(['Unnamed: 0'], 1)\n",
    "    new_df = df.loc[:min_len]\n",
    "    new_df.to_csv(file_path)"
   ]
  },
  {
   "cell_type": "code",
   "execution_count": 5,
   "metadata": {},
   "outputs": [
    {
     "output_type": "execute_result",
     "data": {
      "text/plain": [
       "49"
      ]
     },
     "metadata": {},
     "execution_count": 5
    }
   ],
   "source": [
    "min_len"
   ]
  },
  {
   "cell_type": "code",
   "execution_count": null,
   "metadata": {},
   "outputs": [],
   "source": []
  }
 ]
}